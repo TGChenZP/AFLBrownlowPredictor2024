{
 "cells": [
  {
   "cell_type": "markdown",
   "metadata": {},
   "source": [
    "# 4. Manipulates Raw Statistics into Multiple Forms #\n",
    "## For Brownlow Predictor Project ##\n",
    "\n",
    "Turns raw counts of game/player stats into\n",
    "- [x] Normalised\n",
    "\n",
    "*In order for different statistics to be used together for predictive purposes an important step is to manipulate them into a form which they are 'equal'. There are many ways to do so, and the author wanted to use different manipulations of data to see which gave the best results in terms of prediction. Also wanted to test in general the effectiveness of each data manipulation format*\n",
    "\n",
    "***Author: `Lang (Ron) Chen` 2021.12-2022.1**\n",
    "\n",
    "---"
   ]
  },
  {
   "cell_type": "markdown",
   "metadata": {},
   "source": [
    "*Note: As Percentages followed by Standardisation was proven to be exactly the same as Standardisation, all relevent code have bben commented out* "
   ]
  },
  {
   "cell_type": "markdown",
   "metadata": {},
   "source": [
    "**0. Import Libraries**"
   ]
  },
  {
   "cell_type": "code",
   "execution_count": 1,
   "metadata": {},
   "outputs": [],
   "source": [
    "import pandas as pd\n",
    "import os\n",
    "from tqdm import tqdm\n",
    "import warnings\n",
    "\n",
    "warnings.filterwarnings('ignore')"
   ]
  },
  {
   "cell_type": "code",
   "execution_count": 2,
   "metadata": {},
   "outputs": [],
   "source": [
    "choice = 'OriginalData'"
   ]
  },
  {
   "cell_type": "markdown",
   "metadata": {},
   "source": [
    "**1. Writing the functions for standardisation**"
   ]
  },
  {
   "cell_type": "markdown",
   "metadata": {},
   "source": [
    "1. Normalisation"
   ]
  },
  {
   "cell_type": "code",
   "execution_count": 3,
   "metadata": {},
   "outputs": [],
   "source": [
    "def norm_BT(col):\n",
    "    \"\"\" Takes in input of a dataframe column \"\"\"\n",
    "\n",
    "    game_mean = col.mean()\n",
    "    game_std = col.std()\n",
    "\n",
    "    return (col-game_mean)/game_std"
   ]
  },
  {
   "cell_type": "markdown",
   "metadata": {},
   "source": [
    "**2. Running functions on every file**"
   ]
  },
  {
   "cell_type": "code",
   "execution_count": 4,
   "metadata": {},
   "outputs": [],
   "source": [
    "filelist = os.listdir(f'../data/curated/OriginalData_AddDerived')\n",
    "filelist.sort()\n",
    "filelist = filelist[1:]\n",
    "\n",
    "# Remove the first file (an ipynb checkpoint file)"
   ]
  },
  {
   "cell_type": "code",
   "execution_count": 5,
   "metadata": {},
   "outputs": [],
   "source": [
    "# First make dictionaries which direct the flow of control as to whether a column should receive manipulation and whether it should be positive or inversed direction.\n",
    "\n",
    "# Unchanged\n",
    "Orig = ['Player', 'Winloss', 'Brownlow Votes', 'HomeAway']\n",
    "\n",
    "# Normal manipulation\n",
    "normal = ['Kicks', 'Handballs', 'Disposals', 'Marks', 'Goals', 'Behinds', 'Tackles', 'Hitouts', 'Goal Assists', 'Inside 50s',\n",
    "          'Clearances', 'Rebound 50s', 'Frees For', 'Contested Possessions', 'Uncontested Possessions',\n",
    "          'Effective Disposals', 'Contested Marks', 'Marks Inside 50', 'One Percenters', 'Bounces', 'Centre Clearances',\n",
    "          'Stoppage Clearances', 'Score Involvements', 'Metres Gained', 'Intercepts', 'Tackles Inside 50', 'Time On Ground %', 'Uncontested Marks',\n",
    "          'Marks Outside 50', 'Tackles Outside 50', 'Behind Assists', 'Effective Disposals', 'Ineffective Disposals', 'Clangers', 'Turnovers', 'Frees Agains', 'Disposal Efficiency %', 'Supercoach']"
   ]
  },
  {
   "cell_type": "code",
   "execution_count": 6,
   "metadata": {},
   "outputs": [],
   "source": [
    "def get_target(norm):\n",
    "    norm['Supercoach'] = norm['Supercoach'] + 10000 * norm['Brownlow Votes']\n",
    "\n",
    "    norm = norm.sort_values(['Supercoach'])\n",
    "    norm['rank'] = range(len(norm))\n",
    "    norm['target'] = (norm['rank'] - min(norm['rank'])) / \\\n",
    "        (max(norm['rank'])-min(norm['rank']))\n",
    "\n",
    "    return norm"
   ]
  },
  {
   "cell_type": "code",
   "execution_count": 7,
   "metadata": {},
   "outputs": [
    {
     "name": "stdout",
     "output_type": "stream",
     "text": [
      "CPU times: user 2 µs, sys: 0 ns, total: 2 µs\n",
      "Wall time: 4.77 µs\n"
     ]
    },
    {
     "name": "stderr",
     "output_type": "stream",
     "text": [
      "100%|██████████| 1772/1772 [00:52<00:00, 33.65it/s]\n"
     ]
    }
   ],
   "source": [
    "%time\n",
    "\n",
    "for file in tqdm(filelist):\n",
    "    \n",
    "    df = pd.read_csv(f'../data/curated/OriginalData_AddDerived/{file}')\n",
    "    \n",
    "    \n",
    "    # std = pd.DataFrame()\n",
    "    \n",
    "    norm = pd.DataFrame()\n",
    "    \n",
    "    \n",
    "    for column in df.columns:\n",
    "        \n",
    "        if column in Orig:\n",
    "            \n",
    "            norm[column] = list(df[column])\n",
    "            \n",
    "\n",
    "        elif column in normal:\n",
    "            \n",
    "            norm[f'{column}'] = norm_BT(df[column])\n",
    "\n",
    "        else:\n",
    "            # Error mechanism\n",
    "            pass\n",
    "            \n",
    "    norm = get_target(norm)\n",
    "\n",
    "    norm.to_csv(f'../data/curated/NormalisedData/{file.strip(\"(O).csv\")} (N).csv', index=False)\n",
    "    "
   ]
  },
  {
   "cell_type": "code",
   "execution_count": null,
   "metadata": {},
   "outputs": [],
   "source": []
  }
 ],
 "metadata": {
  "kernelspec": {
   "display_name": "Python 3.9.7 ('base')",
   "language": "python",
   "name": "python3"
  },
  "language_info": {
   "codemirror_mode": {
    "name": "ipython",
    "version": 3
   },
   "file_extension": ".py",
   "mimetype": "text/x-python",
   "name": "python",
   "nbconvert_exporter": "python",
   "pygments_lexer": "ipython3",
   "version": "3.9.7"
  },
  "vscode": {
   "interpreter": {
    "hash": "cd78fef2128015050713e82ca51c6520b11aee7c9ee8df750520bbbc7384cbaa"
   }
  }
 },
 "nbformat": 4,
 "nbformat_minor": 4
}
