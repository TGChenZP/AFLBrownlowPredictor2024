{
 "cells": [
  {
   "attachments": {},
   "cell_type": "markdown",
   "metadata": {},
   "source": [
    "# 7.3 Building Final Model: ML"
   ]
  },
  {
   "cell_type": "code",
   "execution_count": 1,
   "metadata": {},
   "outputs": [],
   "source": [
    "import pandas as pd\n",
    "import pickle\n",
    "from sklearn.metrics import r2_score"
   ]
  },
  {
   "cell_type": "code",
   "execution_count": 30,
   "metadata": {},
   "outputs": [],
   "source": [
    "from PyTorch2Sklearn.MLP import MLP\n",
    "from PyTorch2Sklearn.Transformer import Transformer\n",
    "import torch.nn as nn\n",
    "from PyTorch2Sklearn.utils.data import TabularDataset, TabularDataFactory\n",
    "from sklearn.ensemble import GradientBoostingRegressor"
   ]
  },
  {
   "cell_type": "code",
   "execution_count": 5,
   "metadata": {},
   "outputs": [],
   "source": [
    "import warnings\n",
    "warnings.simplefilter('ignore')"
   ]
  },
  {
   "attachments": {},
   "cell_type": "markdown",
   "metadata": {},
   "source": [
    "## Read in and Prepare Data"
   ]
  },
  {
   "cell_type": "code",
   "execution_count": 6,
   "metadata": {},
   "outputs": [],
   "source": [
    "train_data = pd.read_csv('../data/curated/modelling/train.csv')\n",
    "val_data = pd.read_csv('../data/curated/modelling/val.csv')\n",
    "test_data = pd.read_csv('../data/curated/modelling/test.csv')\n",
    "\n",
    "with open('../models/feature_importance_ordering.pickle', 'rb') as f:\n",
    "    feature_importance_ordering = pickle.load(f)"
   ]
  },
  {
   "attachments": {},
   "cell_type": "markdown",
   "metadata": {},
   "source": [
    "## Train Models"
   ]
  },
  {
   "cell_type": "code",
   "execution_count": 25,
   "metadata": {},
   "outputs": [
    {
     "data": {
      "text/html": [
       "<style>#sk-container-id-1 {color: black;background-color: white;}#sk-container-id-1 pre{padding: 0;}#sk-container-id-1 div.sk-toggleable {background-color: white;}#sk-container-id-1 label.sk-toggleable__label {cursor: pointer;display: block;width: 100%;margin-bottom: 0;padding: 0.3em;box-sizing: border-box;text-align: center;}#sk-container-id-1 label.sk-toggleable__label-arrow:before {content: \"▸\";float: left;margin-right: 0.25em;color: #696969;}#sk-container-id-1 label.sk-toggleable__label-arrow:hover:before {color: black;}#sk-container-id-1 div.sk-estimator:hover label.sk-toggleable__label-arrow:before {color: black;}#sk-container-id-1 div.sk-toggleable__content {max-height: 0;max-width: 0;overflow: hidden;text-align: left;background-color: #f0f8ff;}#sk-container-id-1 div.sk-toggleable__content pre {margin: 0.2em;color: black;border-radius: 0.25em;background-color: #f0f8ff;}#sk-container-id-1 input.sk-toggleable__control:checked~div.sk-toggleable__content {max-height: 200px;max-width: 100%;overflow: auto;}#sk-container-id-1 input.sk-toggleable__control:checked~label.sk-toggleable__label-arrow:before {content: \"▾\";}#sk-container-id-1 div.sk-estimator input.sk-toggleable__control:checked~label.sk-toggleable__label {background-color: #d4ebff;}#sk-container-id-1 div.sk-label input.sk-toggleable__control:checked~label.sk-toggleable__label {background-color: #d4ebff;}#sk-container-id-1 input.sk-hidden--visually {border: 0;clip: rect(1px 1px 1px 1px);clip: rect(1px, 1px, 1px, 1px);height: 1px;margin: -1px;overflow: hidden;padding: 0;position: absolute;width: 1px;}#sk-container-id-1 div.sk-estimator {font-family: monospace;background-color: #f0f8ff;border: 1px dotted black;border-radius: 0.25em;box-sizing: border-box;margin-bottom: 0.5em;}#sk-container-id-1 div.sk-estimator:hover {background-color: #d4ebff;}#sk-container-id-1 div.sk-parallel-item::after {content: \"\";width: 100%;border-bottom: 1px solid gray;flex-grow: 1;}#sk-container-id-1 div.sk-label:hover label.sk-toggleable__label {background-color: #d4ebff;}#sk-container-id-1 div.sk-serial::before {content: \"\";position: absolute;border-left: 1px solid gray;box-sizing: border-box;top: 0;bottom: 0;left: 50%;z-index: 0;}#sk-container-id-1 div.sk-serial {display: flex;flex-direction: column;align-items: center;background-color: white;padding-right: 0.2em;padding-left: 0.2em;position: relative;}#sk-container-id-1 div.sk-item {position: relative;z-index: 1;}#sk-container-id-1 div.sk-parallel {display: flex;align-items: stretch;justify-content: center;background-color: white;position: relative;}#sk-container-id-1 div.sk-item::before, #sk-container-id-1 div.sk-parallel-item::before {content: \"\";position: absolute;border-left: 1px solid gray;box-sizing: border-box;top: 0;bottom: 0;left: 50%;z-index: -1;}#sk-container-id-1 div.sk-parallel-item {display: flex;flex-direction: column;z-index: 1;position: relative;background-color: white;}#sk-container-id-1 div.sk-parallel-item:first-child::after {align-self: flex-end;width: 50%;}#sk-container-id-1 div.sk-parallel-item:last-child::after {align-self: flex-start;width: 50%;}#sk-container-id-1 div.sk-parallel-item:only-child::after {width: 0;}#sk-container-id-1 div.sk-dashed-wrapped {border: 1px dashed gray;margin: 0 0.4em 0.5em 0.4em;box-sizing: border-box;padding-bottom: 0.4em;background-color: white;}#sk-container-id-1 div.sk-label label {font-family: monospace;font-weight: bold;display: inline-block;line-height: 1.2em;}#sk-container-id-1 div.sk-label-container {text-align: center;}#sk-container-id-1 div.sk-container {/* jupyter's `normalize.less` sets `[hidden] { display: none; }` but bootstrap.min.css set `[hidden] { display: none !important; }` so we also need the `!important` here to be able to override the default hidden behavior on the sphinx rendered scikit-learn.org. See: https://github.com/scikit-learn/scikit-learn/issues/21755 */display: inline-block !important;position: relative;}#sk-container-id-1 div.sk-text-repr-fallback {display: none;}</style><div id=\"sk-container-id-1\" class=\"sk-top-container\"><div class=\"sk-text-repr-fallback\"><pre>GradientBoostingRegressor(learning_rate=0.01, max_depth=96, max_features=0.7,\n",
       "                          min_samples_split=64, n_estimators=800,\n",
       "                          random_state=42, subsample=0.25)</pre><b>In a Jupyter environment, please rerun this cell to show the HTML representation or trust the notebook. <br />On GitHub, the HTML representation is unable to render, please try loading this page with nbviewer.org.</b></div><div class=\"sk-container\" hidden><div class=\"sk-item\"><div class=\"sk-estimator sk-toggleable\"><input class=\"sk-toggleable__control sk-hidden--visually\" id=\"sk-estimator-id-1\" type=\"checkbox\" checked><label for=\"sk-estimator-id-1\" class=\"sk-toggleable__label sk-toggleable__label-arrow\">GradientBoostingRegressor</label><div class=\"sk-toggleable__content\"><pre>GradientBoostingRegressor(learning_rate=0.01, max_depth=96, max_features=0.7,\n",
       "                          min_samples_split=64, n_estimators=800,\n",
       "                          random_state=42, subsample=0.25)</pre></div></div></div></div></div>"
      ],
      "text/plain": [
       "GradientBoostingRegressor(learning_rate=0.01, max_depth=96, max_features=0.7,\n",
       "                          min_samples_split=64, n_estimators=800,\n",
       "                          random_state=42, subsample=0.25)"
      ]
     },
     "execution_count": 25,
     "metadata": {},
     "output_type": "execute_result"
    }
   ],
   "source": [
    "gbr = GradientBoostingRegressor(learning_rate=0.01,\n",
    "                                   n_estimators=800,\n",
    "                                   subsample=0.25,\n",
    "                                   max_features=0.7,\n",
    "                                   min_samples_split=64,\n",
    "                                   max_depth=96,\n",
    "                                   random_state=42)\n",
    "\n",
    "gbr.fit(train_data[list(list(feature_importance_ordering.keys())[\n",
    "           36])], train_data['target'])"
   ]
  },
  {
   "cell_type": "code",
   "execution_count": 28,
   "metadata": {},
   "outputs": [
    {
     "data": {
      "text/plain": [
       "0.9035036492718063"
      ]
     },
     "execution_count": 28,
     "metadata": {},
     "output_type": "execute_result"
    }
   ],
   "source": [
    "gbr_pred = gbr.predict(val_data[list(list(feature_importance_ordering.keys())[\n",
    "    36])])\n",
    "r2_score(val_data['target'], gbr_pred)"
   ]
  },
  {
   "attachments": {},
   "cell_type": "markdown",
   "metadata": {},
   "source": [
    "### 2 Votes"
   ]
  },
  {
   "cell_type": "code",
   "execution_count": 31,
   "metadata": {},
   "outputs": [
    {
     "name": "stderr",
     "output_type": "stream",
     "text": [
      "100%|██████████| 10/10 [02:48<00:00, 16.86s/it]\n"
     ]
    }
   ],
   "source": [
    "params = {'hidden_dim': 16, 'num_transformer_layers': 1, 'num_mlp_layers': 1, 'dropout': 0, 'batch_size': 128, 'nhead': 2, 'share_embedding_mlp': False, 'use_cls': False, 'epochs': 10, 'lr': 0.0001, 'batchnorm': False, 'grad_clip': False, 'random_state': 42, 'loss': nn.MSELoss(), 'input_dim': 37, 'output_dim': 1, 'mode': 'Regression', 'verbose': True, 'TabularDataFactory': TabularDataFactory,\n",
    "          'TabularDataset': TabularDataset, }\n",
    "\n",
    "tf = Transformer(**params)\n",
    "tf.fit(train_data[list(list(feature_importance_ordering.keys())[\n",
    "           36])], train_data['target'])"
   ]
  },
  {
   "cell_type": "code",
   "execution_count": 34,
   "metadata": {},
   "outputs": [
    {
     "data": {
      "text/plain": [
       "0.9019904467979647"
      ]
     },
     "execution_count": 34,
     "metadata": {},
     "output_type": "execute_result"
    }
   ],
   "source": [
    "tf_pred = tf.predict(val_data[list(list(feature_importance_ordering.keys())[\n",
    "    36])])\n",
    "r2_score(val_data['target'], tf_pred)"
   ]
  },
  {
   "attachments": {},
   "cell_type": "markdown",
   "metadata": {},
   "source": [
    "### 1 Vote"
   ]
  },
  {
   "cell_type": "code",
   "execution_count": 35,
   "metadata": {},
   "outputs": [
    {
     "name": "stderr",
     "output_type": "stream",
     "text": [
      "100%|██████████| 15/15 [01:14<00:00,  4.96s/it]\n"
     ]
    }
   ],
   "source": [
    "params = {'hidden_dim': 256, 'hidden_layers': 2, 'dropout': 0, 'batch_size': 32, 'epochs': 15, 'lr': 0.0001, 'batchnorm': False, 'grad_clip': False, 'random_state': 42, 'loss': nn.MSELoss(), 'input_dim': 37, 'output_dim': 1, 'mode': 'Regression', 'verbose': True, 'TabularDataFactory': TabularDataFactory,\n",
    "          'TabularDataset': TabularDataset, }\n",
    "\n",
    "mlp = MLP(**params)\n",
    "mlp.fit(train_data[list(list(feature_importance_ordering.keys())[\n",
    "           36])], train_data['target'])"
   ]
  },
  {
   "cell_type": "code",
   "execution_count": 37,
   "metadata": {},
   "outputs": [
    {
     "data": {
      "text/plain": [
       "0.9092463304640118"
      ]
     },
     "execution_count": 37,
     "metadata": {},
     "output_type": "execute_result"
    }
   ],
   "source": [
    "mlp_pred = mlp.predict(train_data[list(list(feature_importance_ordering.keys())[\n",
    "    36])])\n",
    "r2_score(train_data['target'], mlp_pred)"
   ]
  },
  {
   "attachments": {},
   "cell_type": "markdown",
   "metadata": {},
   "source": [
    "## Export models"
   ]
  },
  {
   "cell_type": "code",
   "execution_count": 38,
   "metadata": {},
   "outputs": [],
   "source": [
    "with open('../models/final_models/gbr.pickle', 'wb') as f:\n",
    "    pickle.dump(gbr, f)"
   ]
  },
  {
   "cell_type": "code",
   "execution_count": 39,
   "metadata": {},
   "outputs": [],
   "source": [
    "with open('../models/final_models/transformer.pickle', 'wb') as f:\n",
    "    pickle.dump(tf, f)"
   ]
  },
  {
   "cell_type": "code",
   "execution_count": 40,
   "metadata": {},
   "outputs": [],
   "source": [
    "with open('../models/final_models/mlp.pickle', 'wb') as f:\n",
    "    pickle.dump(mlp, f)"
   ]
  },
  {
   "attachments": {},
   "cell_type": "markdown",
   "metadata": {},
   "source": [
    "# Sample Inference"
   ]
  },
  {
   "cell_type": "code",
   "execution_count": 87,
   "metadata": {},
   "outputs": [
    {
     "data": {
      "text/plain": [
       "[('Marcus Bontempelli', 28),\n",
       " ('Nick Daicos', 27),\n",
       " ('Tim Taranto', 27),\n",
       " ('Rory Laird', 27),\n",
       " ('Rowan Marshall', 26),\n",
       " ('Andrew Brayshaw', 24),\n",
       " ('Zak Butters', 24),\n",
       " ('Christian Petracca', 24),\n",
       " ('Thomas Stewart', 22),\n",
       " ('Errol Gulden', 22),\n",
       " ('James Sicily', 21),\n",
       " ('Tom Green', 20),\n",
       " ('Jordan Dawson', 20),\n",
       " ('Noah Anderson', 19),\n",
       " ('Lachie Neale', 18),\n",
       " ('Connor Rozee', 18),\n",
       " ('Josh Dunkley', 17),\n",
       " ('Caleb Serong', 17),\n",
       " ('Timothy English', 16),\n",
       " ('Brad Crouch', 16),\n",
       " ('Thomas Liberatore', 16),\n",
       " ('Luke D-Uniacke', 15),\n",
       " ('Charlie Curnow', 15),\n",
       " ('Zachary Merrett', 15),\n",
       " ('Taylor Walker', 15),\n",
       " ('Jack Viney', 15),\n",
       " ('Stephen Coniglio', 14),\n",
       " ('Nick Blakey', 14),\n",
       " ('Clayton Oliver', 14),\n",
       " ('Darcy Parish', 13),\n",
       " ('Max Gawn', 13),\n",
       " ('Shai Bolton', 13),\n",
       " ('Patrick Cripps', 13),\n",
       " ('Nic Newman', 13),\n",
       " ('Toby Greene', 12),\n",
       " ('Luke Ryan', 12),\n",
       " ('Adam Cerra', 12),\n",
       " ('Jack Sinclair', 11),\n",
       " ('Chad Warner', 10),\n",
       " ('Dan Houston', 10),\n",
       " ('Dustin Martin', 10),\n",
       " ('Jordan De Goey', 9),\n",
       " ('Harry Sheezel', 9),\n",
       " ('Sean Darcy', 9),\n",
       " ('Jackson Macrae', 9),\n",
       " ('Tom Mitchell', 9),\n",
       " ('Matt Rowell', 9),\n",
       " ('Luke Jackson', 9),\n",
       " ('Harris Andrews', 9),\n",
       " ('Sam Taylor', 9),\n",
       " ('Tim Kelly', 9),\n",
       " ('Luke Parker', 8),\n",
       " ('Nicholas Martin', 8),\n",
       " ('Adam Treloar', 8),\n",
       " ('Joshua Kelly', 8),\n",
       " ('Hugh McCluggage', 7),\n",
       " ('Darcy Moore', 7),\n",
       " ('Toby Nankervis', 7),\n",
       " ('Jake Lloyd', 7),\n",
       " ('Jai Newcombe', 7),\n",
       " ('Joe Daniher', 7),\n",
       " ('Tom Atkins', 7),\n",
       " ('Scott Pendlebury', 6),\n",
       " ('Jack Steele', 6),\n",
       " ('Jeremy Finlayson', 6),\n",
       " ('Oscar McInerney', 6),\n",
       " ('Isaac Heeney', 6),\n",
       " ('Harry McKay', 6),\n",
       " ('Tom Hawkins', 6),\n",
       " ('Jeremy Cameron', 6),\n",
       " ('Patrick Dangerfield', 6),\n",
       " ('Tom Papley', 6),\n",
       " ('Jarrod Witts', 5),\n",
       " ('James Worpel', 5),\n",
       " ('Kieren Briggs', 5),\n",
       " ('Dylan Moore', 5),\n",
       " ('Mason Redman', 5),\n",
       " ('Jack Lukosius', 5),\n",
       " ('Darcy Cameron', 5),\n",
       " ('George Hewett', 5),\n",
       " ('Jack Ziebell', 5),\n",
       " ('Charlie Cameron', 5),\n",
       " ('Jake Stringer', 5),\n",
       " ('Todd Goldstein', 5),\n",
       " ('Todd Marshall', 4),\n",
       " ('Brennan Cox', 4),\n",
       " ('Sam Docherty', 4),\n",
       " ('Conor Nash', 4),\n",
       " ('Caleb Daniel', 4),\n",
       " ('Mitchito Owens', 4),\n",
       " ('Oliver Wines', 4),\n",
       " ('Jayden Short', 4),\n",
       " ('Sam Flanders', 4),\n",
       " ('Angus Brayshaw', 4),\n",
       " ('Callum Mills', 4),\n",
       " ('Will Day', 4),\n",
       " ('Darcy Fogarty', 4),\n",
       " ('Hayden Young', 4),\n",
       " ('Brodie Grundy', 4),\n",
       " ('Jack Higgins', 4),\n",
       " ('Brodie Smith', 4),\n",
       " ('Kysaiah Pickett', 3),\n",
       " ('Jacob Weitering', 3),\n",
       " ('Mitchell Lewis', 3),\n",
       " ('Jarman Impey', 3),\n",
       " ('Jordan Ridley', 3),\n",
       " ('Jack Riewoldt', 3),\n",
       " ('Gary Rohan', 3),\n",
       " ('Brayden Fiorini', 3),\n",
       " (\"Reilly O'Brien\", 3),\n",
       " ('Jack Gunston', 3),\n",
       " ('Tyson Stengle', 3),\n",
       " ('Josh Daicos', 3),\n",
       " ('Wil Powell', 3),\n",
       " ('Aidan Corr', 3),\n",
       " ('Blake Acres', 3),\n",
       " ('Will Setterfield', 3),\n",
       " ('Jake Waterman', 3),\n",
       " ('Callum Wilkie', 3),\n",
       " ('Kyle Langford', 3),\n",
       " ('Lachlan Schultz', 3),\n",
       " ('Jesse Hogan', 3),\n",
       " ('Nick Larkey', 3),\n",
       " ('Liam Baker', 3),\n",
       " ('Izak Rankine', 3),\n",
       " ('Lachlan Weller', 3),\n",
       " ('Peter Ladhams', 3),\n",
       " ('Mason Cox', 3),\n",
       " ('Archie Perkins', 2),\n",
       " ('Jason H-Francis', 2),\n",
       " (\"Jaeger O'Meara\", 2),\n",
       " ('Jy Simpkin', 2),\n",
       " ('Jye Amiss', 2),\n",
       " ('Will Phillips', 2),\n",
       " ('Callan Ward', 2),\n",
       " ('Bayley Fritsch', 2),\n",
       " ('Rory Sloane', 2),\n",
       " ('Jack Crisp', 2),\n",
       " ('Zac Bailey', 2),\n",
       " ('Matthew Kennedy', 2),\n",
       " ('Jake Riccardi', 2),\n",
       " ('Cody Weightman', 2),\n",
       " ('Trent Cotchin', 2),\n",
       " ('Ben Keays', 2),\n",
       " ('Jamie Elliott', 2),\n",
       " ('Will Ashcroft', 2),\n",
       " ('Steven May', 2),\n",
       " ('Jack Silvagni', 2),\n",
       " ('Taylor Adams', 2),\n",
       " ('Bailey Scott', 2),\n",
       " ('Callum Ah Chee', 2),\n",
       " ('Jack Graham', 2),\n",
       " ('Matt Crouch', 2),\n",
       " ('Touk Miller', 2),\n",
       " ('Mitchell Hinge', 2),\n",
       " ('Gryan Miers', 2),\n",
       " ('Lachlan Hunter', 2),\n",
       " ('Karl Amon', 2),\n",
       " ('Sebastian Ross', 2),\n",
       " ('Will Hayward', 2),\n",
       " ('Harrison Himmelberg', 2),\n",
       " ('Jayden Laverde', 2),\n",
       " ('Mason Wood', 2),\n",
       " ('Mark Blicavs', 2),\n",
       " ('Steele Sidebottom', 2),\n",
       " ('Willem Drew', 2),\n",
       " ('Aaron Naughton', 2),\n",
       " ('Jacob Hopper', 2),\n",
       " ('Bailey Smith', 2),\n",
       " ('Ben King', 2),\n",
       " ('Dane Rampe', 1),\n",
       " ('Luke McDonald', 1),\n",
       " ('Darcy B-Jones', 1),\n",
       " ('Daniel Rioli', 1),\n",
       " ('Andrew McGrath', 1),\n",
       " ('Lachlan Ash', 1),\n",
       " ('Nasiah W-Milera', 1),\n",
       " ('Trent Rivers', 1),\n",
       " ('Blake Hardwick', 1),\n",
       " ('Kane Farrell', 1),\n",
       " ('John Noble', 1),\n",
       " ('Zach Tuohy', 1),\n",
       " ('Isaac Quaynor', 1),\n",
       " ('Max Holmes', 1),\n",
       " ('Rory Atkins', 1),\n",
       " ('Ryan Burton', 1),\n",
       " ('Dayne Zorko', 1),\n",
       " ('Edward Curnow', 1),\n",
       " ('Dylan Shiel', 1),\n",
       " ('Matthew Flynn', 1),\n",
       " ('Brandon Z-Thatcher', 1),\n",
       " ('Brodie Kemp', 1),\n",
       " ('Alex Witherden', 1),\n",
       " ('Keidean Coleman', 1),\n",
       " ('Jake Lever', 1),\n",
       " ('Max King', 1),\n",
       " ('Jack Ginnivan', 1),\n",
       " ('Isaac Smith', 1),\n",
       " ('Tarryn Thomas', 1),\n",
       " ('James Aish', 1),\n",
       " ('Darcy Macpherson', 1),\n",
       " ('Mitchell Duncan', 1),\n",
       " ('Bailey Dale', 1),\n",
       " ('Oliver Florent', 1),\n",
       " ('Sam Walsh', 1),\n",
       " ('Jack Bowes', 1),\n",
       " ('Bailey J. Williams', 1),\n",
       " ('Aaron Hall', 1),\n",
       " ('Travis Boak', 1),\n",
       " ('Miles Bergman', 1)]"
      ]
     },
     "execution_count": 87,
     "metadata": {},
     "output_type": "execute_result"
    }
   ],
   "source": [
    "import os\n",
    "from collections import defaultdict as dd\n",
    "manip_type = 'NormalisedData'\n",
    "\n",
    "csv_list = os.listdir(f'../data/curated/{manip_type}')\n",
    "csv_list.sort()\n",
    "\n",
    "tally = dd(int)\n",
    "\n",
    "data = pd.DataFrame()\n",
    "for file in csv_list[1:]:\n",
    "    if '2023' in file:\n",
    "        data = pd.read_csv(f'../data/curated/{manip_type}/{file}')\n",
    "\n",
    "        player = data['Player']\n",
    "        pred = tf.predict(\n",
    "            data[list(list(feature_importance_ordering.keys())[36])])\n",
    "        pred = pd.DataFrame({'player': player, 'predicted_score': pred})\n",
    "\n",
    "        three_votes = list(pred.sort_values(\n",
    "            'predicted_score', ascending=False)['player'])[0]\n",
    "\n",
    "        two_votes = list(pred.sort_values(\n",
    "            'predicted_score', ascending=False)['player'])[1]\n",
    "\n",
    "        one_vote = list(pred.sort_values(\n",
    "            'predicted_score', ascending=False)['player'])[2]\n",
    "\n",
    "        tally[three_votes] += 3\n",
    "        tally[two_votes] += 2\n",
    "        tally[one_vote] += 1\n",
    "\n",
    "tally_list = list(tally.items())\n",
    "tally_list.sort(key=lambda x: x[1], reverse=True)\n",
    "\n",
    "tally_list"
   ]
  }
 ],
 "metadata": {
  "kernelspec": {
   "display_name": "base",
   "language": "python",
   "name": "python3"
  },
  "language_info": {
   "codemirror_mode": {
    "name": "ipython",
    "version": 3
   },
   "file_extension": ".py",
   "mimetype": "text/x-python",
   "name": "python",
   "nbconvert_exporter": "python",
   "pygments_lexer": "ipython3",
   "version": "3.9.7"
  },
  "orig_nbformat": 4,
  "vscode": {
   "interpreter": {
    "hash": "cd78fef2128015050713e82ca51c6520b11aee7c9ee8df750520bbbc7384cbaa"
   }
  }
 },
 "nbformat": 4,
 "nbformat_minor": 2
}
