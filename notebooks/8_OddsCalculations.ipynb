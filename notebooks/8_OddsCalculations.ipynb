{
 "cells": [
  {
   "cell_type": "code",
   "execution_count": 1,
   "metadata": {},
   "outputs": [],
   "source": [
    "import pandas as pd\n",
    "import os\n",
    "import numpy as np\n",
    "from collections import defaultdict as dd\n",
    "from tqdm import tqdm"
   ]
  },
  {
   "cell_type": "markdown",
   "metadata": {},
   "source": [
    "# Sample game"
   ]
  },
  {
   "cell_type": "code",
   "execution_count": 3,
   "metadata": {},
   "outputs": [],
   "source": [
    "games_list = os.listdir('../presentables/raw_predicted_scores/')"
   ]
  },
  {
   "cell_type": "code",
   "execution_count": 4,
   "metadata": {},
   "outputs": [],
   "source": [
    "n = 11801\n",
    "sqrt_mean_squared_error = 0.087452"
   ]
  },
  {
   "cell_type": "code",
   "execution_count": 5,
   "metadata": {},
   "outputs": [],
   "source": [
    "all_games_player_distributions = dict()"
   ]
  },
  {
   "cell_type": "code",
   "execution_count": 13,
   "metadata": {},
   "outputs": [
    {
     "name": "stderr",
     "output_type": "stream",
     "text": [
      "100%|██████████| 207/207 [05:10<00:00,  1.50s/it]\n"
     ]
    }
   ],
   "source": [
    "np.random.seed(0)\n",
    "n_samples = 2500\n",
    "\n",
    "for game_filename in tqdm(games_list):\n",
    "\n",
    "    predicted_game = pd.read_csv(\n",
    "        f'../presentables/raw_predicted_scores/{game_filename}')\n",
    "\n",
    "    round_number = game_filename.split('_')[1].split('.')[0]\n",
    "    team1 = game_filename.split('_')[2].split('v')[0].strip()\n",
    "    team2 = game_filename.split('v')[1].split('.')[0].strip()\n",
    "\n",
    "    n_players = len(predicted_game)\n",
    "    predicted_scores = predicted_game['predicted_score']\n",
    "\n",
    "    epsilon = np.random.normal(0, 1, n_players*n_samples)\n",
    "\n",
    "    player_distribution = {player: {i: 0 for i in range(\n",
    "        4)} for player in predicted_game['player']}\n",
    "\n",
    "    for i in range(n_samples):\n",
    "        sampled_game_score = predicted_scores + \\\n",
    "            epsilon[i*n_players:(i+1)*n_players] * sqrt_mean_squared_error\n",
    "        sampled_game_score.sort_values(ascending=False, inplace=True)\n",
    "        sampled_players = {predicted_game['player'][j]: _ if _ < 3 else 3\n",
    "                           for (_, j) in enumerate(sampled_game_score.index)}\n",
    "\n",
    "        for player in sampled_players:\n",
    "            player_distribution[player][sampled_players[player]] += 1\n",
    "\n",
    "    # turn into probabilities\n",
    "    for player in player_distribution:\n",
    "        total = sum(player_distribution[player].values())\n",
    "        for i in range(4):\n",
    "            player_distribution[player][i] /= total\n",
    "\n",
    "    all_games_player_distributions[f'{round_number}_{team1}_{team2}'] = player_distribution"
   ]
  },
  {
   "cell_type": "markdown",
   "metadata": {},
   "source": [
    "# Simulate game"
   ]
  },
  {
   "cell_type": "code",
   "execution_count": 20,
   "metadata": {},
   "outputs": [
    {
     "name": "stderr",
     "output_type": "stream",
     "text": [
      "100%|██████████| 2500/2500 [03:28<00:00, 12.01it/s]\n"
     ]
    }
   ],
   "source": [
    "season_distribution = dict()\n",
    "\n",
    "for i in tqdm(range(n_samples)):\n",
    "\n",
    "    player_tally = dd(int)\n",
    "\n",
    "    for game in all_games_player_distributions:\n",
    "        for player in all_games_player_distributions[game]:\n",
    "            if all_games_player_distributions[game][player][3] < 0.99:\n",
    "                # categorical distribution sample\n",
    "                sampled_votes = np.random.choice(\n",
    "                    [3, 2, 1, 0], p=list(all_games_player_distributions[game][player].values()))\n",
    "                player_tally[player] += sampled_votes\n",
    "                \n",
    "    # sort by votes\n",
    "    player_tally = dict(sorted(player_tally.items(),\n",
    "                        key=lambda x: x[1], reverse=True))\n",
    "\n",
    "    season_distribution[i] = player_tally"
   ]
  },
  {
   "cell_type": "code",
   "execution_count": 22,
   "metadata": {},
   "outputs": [],
   "source": [
    "for i in range(n_samples):\n",
    "    season_distribution[i] = dict(\n",
    "        sorted(season_distribution[i].items(), key=lambda x: x[1], reverse=True))"
   ]
  },
  {
   "cell_type": "code",
   "execution_count": 28,
   "metadata": {},
   "outputs": [],
   "source": [
    "season_distribution_df = pd.DataFrame(\n",
    "    {i: season_distribution[i].keys() for i in range(n_samples)})"
   ]
  },
  {
   "cell_type": "markdown",
   "metadata": {},
   "source": [
    "# Odds"
   ]
  },
  {
   "cell_type": "code",
   "execution_count": 32,
   "metadata": {},
   "outputs": [],
   "source": [
    "# get probabilities\n",
    "winner_prob = season_distribution_df.iloc[0].value_counts(normalize=True)"
   ]
  },
  {
   "cell_type": "code",
   "execution_count": 43,
   "metadata": {},
   "outputs": [],
   "source": [
    "# count the number of times each player is in the top 2\n",
    "top_2 = season_distribution_df.iloc[0:2].stack().value_counts(normalize=True)*2"
   ]
  },
  {
   "cell_type": "code",
   "execution_count": 54,
   "metadata": {},
   "outputs": [
    {
     "data": {
      "text/plain": [
       "{'Marcus Bontempelli': 3.74,\n",
       " 'Christian Petracca': 4.33,\n",
       " 'Nick Daicos': 7.22,\n",
       " 'Jordan Dawson': 7.28,\n",
       " 'Tim Taranto': 18.69,\n",
       " 'Rory Laird': 18.84,\n",
       " 'Zachary Merrett': 25.32,\n",
       " 'Caleb Serong': 29.49,\n",
       " 'Andrew Brayshaw': 34.71,\n",
       " 'Zak Butters': 34.71,\n",
       " 'Errol Gulden': 34.71,\n",
       " 'Lachie Neale': 51.08,\n",
       " 'Connor Rozee': 55.82,\n",
       " 'Rowan Marshall': 68.44,\n",
       " 'Thomas Stewart': 91.59,\n",
       " 'Timothy English': 103.17,\n",
       " 'James Sicily': 155.25,\n",
       " 'Noah Anderson': 191.31,\n",
       " 'Tom Green': 226.27,\n",
       " 'Josh Dunkley': 276.78,\n",
       " 'Jack Sinclair': 415.67,\n",
       " 'Thomas Liberatore': 624.0,\n",
       " 'Charlie Curnow': 624.0,\n",
       " 'Dan Houston': 832.33,\n",
       " 'Patrick Cripps': 1249.0,\n",
       " 'Stephen Coniglio': 1249.0,\n",
       " 'Clayton Oliver': 1249.0,\n",
       " 'Adam Cerra': 1249.0,\n",
       " 'Darcy Parish': 2499.0,\n",
       " 'Josh Daicos': 2499.0,\n",
       " 'Tom Mitchell': 2499.0,\n",
       " 'Toby Greene': 2499.0,\n",
       " 'Max Gawn': 2499.0}"
      ]
     },
     "execution_count": 54,
     "metadata": {},
     "output_type": "execute_result"
    }
   ],
   "source": [
    "winner_odds = {player: np.round(\n",
    "    (1-winner_prob[player])/winner_prob[player], 2) for player in winner_prob.index}\n",
    "winner_odds"
   ]
  },
  {
   "cell_type": "code",
   "execution_count": 55,
   "metadata": {},
   "outputs": [
    {
     "data": {
      "text/plain": [
       "{'Marcus Bontempelli': 1.88,\n",
       " 'Christian Petracca': 2.04,\n",
       " 'Nick Daicos': 3.31,\n",
       " 'Jordan Dawson': 3.41,\n",
       " 'Tim Taranto': 7.5,\n",
       " 'Rory Laird': 8.03,\n",
       " 'Zachary Merrett': 11.32,\n",
       " 'Caleb Serong': 11.5,\n",
       " 'Zak Butters': 13.04,\n",
       " 'Errol Gulden': 13.62,\n",
       " 'Andrew Brayshaw': 13.62,\n",
       " 'Lachie Neale': 22.36,\n",
       " 'Connor Rozee': 25.6,\n",
       " 'Rowan Marshall': 28.41,\n",
       " 'Thomas Stewart': 37.46,\n",
       " 'Timothy English': 45.3,\n",
       " 'James Sicily': 46.17,\n",
       " 'Tom Green': 74.76,\n",
       " 'Josh Dunkley': 82.33,\n",
       " 'Noah Anderson': 107.7,\n",
       " 'Jack Sinclair': 130.58,\n",
       " 'Thomas Liberatore': 177.57,\n",
       " 'Clayton Oliver': 177.57,\n",
       " 'Charlie Curnow': 191.31,\n",
       " 'Adam Cerra': 226.27,\n",
       " 'Dan Houston': 249.0,\n",
       " 'Stephen Coniglio': 276.78,\n",
       " 'Toby Greene': 356.14,\n",
       " 'Tom Mitchell': 624.0,\n",
       " 'Darcy Parish': 624.0,\n",
       " 'Patrick Cripps': 832.33,\n",
       " 'Brad Crouch': 832.33,\n",
       " 'Luke Ryan': 832.33,\n",
       " 'Max Gawn': 1249.0,\n",
       " 'Matt Rowell': 1249.0,\n",
       " 'Nic Newman': 1249.0,\n",
       " 'Jack Viney': 1249.0,\n",
       " 'Josh Daicos': 2499.0,\n",
       " 'Luke Jackson': 2499.0,\n",
       " 'Toby Nankervis': 2499.0}"
      ]
     },
     "execution_count": 55,
     "metadata": {},
     "output_type": "execute_result"
    }
   ],
   "source": [
    "top2_odds = {player: np.round(\n",
    "    (1-top_2[player])/top_2[player], 2) for player in top_2.index}\n",
    "top2_odds"
   ]
  },
  {
   "cell_type": "markdown",
   "metadata": {},
   "source": [
    "****\n",
    "- joint distributions for season simulation (how many players?)\n",
    "\n",
    "- how many simulations - round 1 and round 2\n",
    "\n",
    "- dynamic programming\n",
    "\n",
    "- live input\n",
    "\n",
    "**ODDS**\n",
    "- top 2-10 odds\n",
    "\n",
    "- number of votes "
   ]
  },
  {
   "cell_type": "code",
   "execution_count": null,
   "metadata": {},
   "outputs": [],
   "source": []
  }
 ],
 "metadata": {
  "kernelspec": {
   "display_name": "base",
   "language": "python",
   "name": "python3"
  },
  "language_info": {
   "codemirror_mode": {
    "name": "ipython",
    "version": 3
   },
   "file_extension": ".py",
   "mimetype": "text/x-python",
   "name": "python",
   "nbconvert_exporter": "python",
   "pygments_lexer": "ipython3",
   "version": "3.9.7"
  }
 },
 "nbformat": 4,
 "nbformat_minor": 2
}
