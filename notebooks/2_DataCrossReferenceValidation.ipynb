{
 "cells": [
  {
   "cell_type": "markdown",
   "metadata": {},
   "source": [
    "# 2. Crawling AFL Brownlow Votes from afltables.com for Data Cross Reference Validation #\n",
    "## For Brownlow Predictor Project ##\n",
    "\n",
    "Scrapes Brownlow Votes data from a secondary website to validate the votes\n",
    "\n",
    "*FootyWire's Brownlow Data presented problems in that some votes were wrongly allocated. afltables also records each player's full name as opposed to a half-initials, so it will also solve issues of two players on field having same half-initials being both allocated votes*\n",
    "\n",
    "**Author: `Lang (Ron) Chen` 2021.12-2022.1**\n",
    "\n",
    "---"
   ]
  },
  {
   "cell_type": "markdown",
   "metadata": {},
   "source": [
    "**0. Import Libraries**"
   ]
  },
  {
   "cell_type": "code",
   "execution_count": 1,
   "metadata": {},
   "outputs": [],
   "source": [
    "import requests\n",
    "from bs4 import BeautifulSoup\n",
    "import re\n",
    "import pandas as pd\n",
    "import time\n",
    "import random\n",
    "from urllib.parse import urljoin\n",
    "import os"
   ]
  },
  {
   "cell_type": "markdown",
   "metadata": {},
   "source": [
    "**1. Data Processing functions**"
   ]
  },
  {
   "cell_type": "code",
   "execution_count": 2,
   "metadata": {},
   "outputs": [],
   "source": [
    "def TransfName(name):\n",
    "    \"\"\" Function which transform name format of afltables.com into the style our current file stores (i.e. style of FootyWire.com) \"\"\"\n",
    "\n",
    "    name_split = name.split(' ')\n",
    "    firstname = name_split[0]\n",
    "    lastname = name_split[1]\n",
    "\n",
    "    if '-' in lastname:\n",
    "        lastname_split = lastname.split('-')\n",
    "        lastname = f'{lastname_split[0][0]}-{lastname_split[1]}'\n",
    "\n",
    "    return f'{firstname} {lastname}'"
   ]
  },
  {
   "cell_type": "code",
   "execution_count": 3,
   "metadata": {},
   "outputs": [],
   "source": [
    "def Teamname_transf(team):\n",
    "    \"\"\" Function which transforms team name format of AFLTables.com into style our current data is stored (named) as (i.e. style of FootyWire.com) \"\"\"\n",
    "\n",
    "    if team == 'Gold':\n",
    "        team = 'GoldCoast'\n",
    "\n",
    "    elif team == 'North':\n",
    "        team = 'NorthMelbourne'\n",
    "\n",
    "    elif team == 'Port':\n",
    "        team = 'PortAdelaide'\n",
    "\n",
    "    elif team == 'St':\n",
    "        team = 'StKilda'\n",
    "\n",
    "    elif team == 'West':\n",
    "        team = 'WestCoast'\n",
    "\n",
    "    elif team == 'Western':\n",
    "        team = 'WesternBulldogs'\n",
    "\n",
    "    elif team == 'Greater':\n",
    "        team = 'GWS'\n",
    "\n",
    "    return team"
   ]
  },
  {
   "cell_type": "code",
   "execution_count": 4,
   "metadata": {},
   "outputs": [],
   "source": [
    "def validate_stats(year, rd, team1, team2, new_brownlowdict):\n",
    "    \"\"\" Function which opens up a file and checks whether the correct number of votes were given. \n",
    "    Warning: Written to accomodate the structure of the scraped data!! \"\"\"\n",
    "\n",
    "    try:\n",
    "        df = pd.read_csv(\n",
    "            f'../data/raw/OriginalData/{year} Round {rd} {team1} v {team2} (O).csv')\n",
    "    except:\n",
    "        df = pd.read_csv(\n",
    "            f'../data/raw/OriginalData/{year} Round {rd} {team2} v {team1} (O).csv')\n",
    "    players = list(df['Player'])\n",
    "    votes = list(df['Brownlow Votes'])\n",
    "\n",
    "    issue = False\n",
    "\n",
    "    old_brownlowdict = {}\n",
    "\n",
    "    # initialise a new list to store votes\n",
    "    new_votes = [0 for i in range(len(votes))]\n",
    "\n",
    "    for i in range(len(players)):  # Players who's names differed on afltables.com to our data\n",
    "        if players[i] == 'Josh P. Kennedy' or players[i] == 'Joshua Kennedy':\n",
    "            player = 'Josh Kennedy'\n",
    "        elif players[i] == \"Jaeger O'Meara\":\n",
    "            player = 'Jaeger OMeara'\n",
    "        elif players[i] == 'Edward Curnow':\n",
    "            player = 'Ed Curnow'\n",
    "        elif players[i] == 'Zachary Merrett':\n",
    "            player = 'Zach Merrett'\n",
    "        elif players[i] == 'Joshua Kelly':\n",
    "            player = 'Josh Kelly'\n",
    "        elif players[i] == 'Jordan De Goey':\n",
    "            player = 'Jordan de Goey'\n",
    "        elif players[i] == 'Zachary Williams':\n",
    "            player = 'Zac Williams'\n",
    "        elif players[i] == 'Matthew De Boer':\n",
    "            player = 'Matt de Boer'\n",
    "        elif players[i] == 'Jackson Macrae':\n",
    "            player = 'Jack Macrae'\n",
    "        elif players[i] == 'Daniel Butler':\n",
    "            player = 'Dan Butler'\n",
    "        else:\n",
    "            player = players[i]\n",
    "\n",
    "        # if find a matching player, check their votes. If the votes don't match, then raise alarm\n",
    "        if player in new_brownlowdict:\n",
    "            new_votes[i] = new_brownlowdict[player]\n",
    "            if new_brownlowdict[player] != votes[i]:\n",
    "                issue = True\n",
    "\n",
    "    # if gave more votes than should have due to same semi-initialised name, also raise alarm\n",
    "    if not issue and sum(votes) != 6:\n",
    "        issue = True\n",
    "\n",
    "    # only if there's an issue: find out who the votes were allocated to in the current files; replace the votes column with the new_brownlowvotes and also print out the diagnostic information for those games.\n",
    "    # also update the two other type of files.\n",
    "    if issue:\n",
    "        for i in range(len(votes)):\n",
    "            if votes[i]:\n",
    "                old_brownlowdict[players[i]] = votes[i]\n",
    "\n",
    "        print(f'{year} Rd {rd} {team1} v {team2}: {sum(votes)}')\n",
    "        print({sum(new_votes)})\n",
    "        print(f'New: {new_brownlowdict}')\n",
    "        print(f'Old: {old_brownlowdict}')\n",
    "        print('\\n')\n",
    "\n",
    "        if not os.path.exists('../data (validation fix)/OriginalData'):\n",
    "            os.makedirs('../data (validation fix)/OriginalData')\n",
    "\n",
    "        df['Brownlow Votes'] = new_votes\n",
    "        df.to_csv(\n",
    "            f'../data (validation fix)/OriginalData/{year} Round {rd} {team1} v {team2} (O).csv', index=False)"
   ]
  },
  {
   "cell_type": "markdown",
   "metadata": {},
   "source": [
    "For security purposes, did not allow crawler to overwrite files crawled off FootyWire. Instead, they were put into a new folder, which after human validation could be cut and pasted into the original data folder, replacing the old files with wrongly allocated Brownlow Votes"
   ]
  },
  {
   "cell_type": "markdown",
   "metadata": {},
   "source": [
    "## 2. Crawl and Scrape ##\n",
    "*(This is like the overall 'Main' function in this entire notebook)*"
   ]
  },
  {
   "cell_type": "code",
   "execution_count": 5,
   "metadata": {},
   "outputs": [],
   "source": [
    "years = range(2015, 2024)\n",
    "\n",
    "for year in years:\n",
    "\n",
    "    page = requests.get(\n",
    "        f'https://afltables.com/afl/brownlow/brownlow{year}rbr.html')\n",
    "    soup = BeautifulSoup(page.text, 'html.parser')\n",
    "\n",
    "    # just happened to work... found out thorugh experimentation\n",
    "    section = soup.find('h1')\n",
    "\n",
    "    results = section.findNext('table')\n",
    "    rows = results.findAll('tr')\n",
    "\n",
    "    # Code followed the specific format of the data: every 4 rows made up a game in the particular round\n",
    "    result2 = soup.findAll('table')\n",
    "    for rd in range(len(result2)):\n",
    "        for row in rows:\n",
    "            if row.findAll('a'):\n",
    "                a = row.findAll('a')\n",
    "                desired_object = re.findall(r'>.+<', str(a[0]))[0].strip('<>')\n",
    "                if ' v ' in desired_object:\n",
    "                    brownlowdict = {}\n",
    "                    count = 0\n",
    "                    team1_tmp = desired_object.split('v')[0].split()[0]\n",
    "                    team2_tmp = desired_object.split('v')[1].split()[0]\n",
    "\n",
    "                    team1 = Teamname_transf(team1_tmp)\n",
    "                    team2 = Teamname_transf(team2_tmp)\n",
    "\n",
    "                else:\n",
    "                    if count == 1:\n",
    "                        brownlowdict[TransfName(desired_object)] = 3\n",
    "\n",
    "                    elif count == 2:\n",
    "                        brownlowdict[TransfName(desired_object)] = 2\n",
    "\n",
    "                    elif count == 3:\n",
    "                        brownlowdict[TransfName(desired_object)] = 1\n",
    "                        validate_stats(year, rd, team1, team2, brownlowdict)\n",
    "\n",
    "                count += 1\n",
    "\n",
    "        if rd + 1 < len(result2):\n",
    "            results = results.findNext('table')\n",
    "            rows = results.findAll('tr')\n",
    "\n",
    "    time.sleep(random.uniform(0.5, 5))"
   ]
  },
  {
   "cell_type": "markdown",
   "metadata": {},
   "source": [
    "## Logic behind the code: ##\n",
    "Seeks to solve the problem of assigned more votes (because original scraper used semi-acronym format for brownlow vote receiver's names), wrong votes being recorded, and the 'Josh P. Kennedy' problem.\n",
    "\n",
    "\n",
    "For each game, open up the file and run through the player name list, stopping if a name on the player name list is in the new_brownlowdict. If there's a mismatch we raise the alarm and write up a new list to replace the old brownlow list.\n",
    "The data that is printed for each 'problem game' alerts of the original problem, allowing for diagnosis of further problems in original data and also whether the data has been fixed by this validation script\n",
    "\n",
    "After this validation, the only 2 games with data mismatch and require manual update are:\n",
    "\n",
    "2016 Rd 9 GoldCoast v Adelaide: 8\n",
    "{8}\n",
    "New: {'Taylor Walker': 3, 'Tom Lynch': 2, 'Daniel Talia': 1}\n",
    "Old: {'Tom Lynch': 2, 'Daniel Talia': 1, 'Taylor Walker': 3}\n",
    "\n",
    "\n",
    "2017 Rd 4 WestCoast v Sydney: 8\n",
    "{8}\n",
    "New: {'Luke Shuey': 3, 'Josh Kennedy': 2, 'Jamie Cripps': 1}\n",
    "Old: {'Luke Shuey': 3, 'Jamie Cripps': 1, 'Joshua Kennedy': 2, 'Josh P. Kennedy': 2}"
   ]
  }
 ],
 "metadata": {
  "kernelspec": {
   "display_name": "Python 3.9.7 ('base')",
   "language": "python",
   "name": "python3"
  },
  "language_info": {
   "codemirror_mode": {
    "name": "ipython",
    "version": 3
   },
   "file_extension": ".py",
   "mimetype": "text/x-python",
   "name": "python",
   "nbconvert_exporter": "python",
   "pygments_lexer": "ipython3",
   "version": "3.9.7"
  },
  "vscode": {
   "interpreter": {
    "hash": "cd78fef2128015050713e82ca51c6520b11aee7c9ee8df750520bbbc7384cbaa"
   }
  }
 },
 "nbformat": 4,
 "nbformat_minor": 4
}
