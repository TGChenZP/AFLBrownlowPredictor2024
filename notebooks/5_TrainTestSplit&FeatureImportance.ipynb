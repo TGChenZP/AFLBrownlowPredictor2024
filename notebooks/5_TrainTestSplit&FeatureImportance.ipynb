{
 "cells": [
  {
   "cell_type": "markdown",
   "metadata": {},
   "source": [
    "# Get Dataset"
   ]
  },
  {
   "cell_type": "code",
   "execution_count": 9,
   "metadata": {},
   "outputs": [],
   "source": [
    "import pandas as pd\n",
    "from sklearn.model_selection import train_test_split\n",
    "import os\n",
    "from tqdm import tqdm"
   ]
  },
  {
   "cell_type": "code",
   "execution_count": 11,
   "metadata": {},
   "outputs": [],
   "source": [
    "games_list = os.listdir('../data/curated/NormalisedData')\n",
    "games_list = [file for file in games_list if file.endswith('.csv')]\n",
    "games_list_no_2023 = [game for game in games_list if '2023' not in games_list]"
   ]
  },
  {
   "cell_type": "code",
   "execution_count": 12,
   "metadata": {},
   "outputs": [],
   "source": [
    "train_games, valtest_games = train_test_split(\n",
    "    games_list_no_2023, test_size=0.3, random_state=42)\n",
    "val_games, test_games = train_test_split(\n",
    "    valtest_games, test_size=0.5, random_state=42)"
   ]
  },
  {
   "cell_type": "code",
   "execution_count": 13,
   "metadata": {},
   "outputs": [],
   "source": [
    "def get_dataset(games_list):\n",
    "\n",
    "    df = pd.DataFrame()\n",
    "\n",
    "    for game in tqdm(games_list):\n",
    "        game_df = pd.read_csv(f'../data/curated/NormalisedData/{game}')\n",
    "        df = pd.concat([df, game_df])\n",
    "        \n",
    "    df.fillna(0, inplace=True)\n",
    "\n",
    "    return df"
   ]
  },
  {
   "cell_type": "code",
   "execution_count": 16,
   "metadata": {},
   "outputs": [
    {
     "name": "stderr",
     "output_type": "stream",
     "text": [
      "100%|██████████| 1240/1240 [00:08<00:00, 154.26it/s]\n",
      "100%|██████████| 266/266 [00:01<00:00, 152.04it/s]\n",
      "100%|██████████| 266/266 [00:01<00:00, 201.44it/s]\n"
     ]
    }
   ],
   "source": [
    "train_df = get_dataset(train_games)\n",
    "val_df = get_dataset(val_games)\n",
    "test_df = get_dataset(test_games)"
   ]
  },
  {
   "cell_type": "code",
   "execution_count": 32,
   "metadata": {},
   "outputs": [],
   "source": [
    "train_df.to_csv('../data/curated/modelling/train.csv')\n",
    "val_df.to_csv('../data/curated/modelling/val.csv')\n",
    "test_df.to_csv('../data/curated/modelling/test.csv')"
   ]
  },
  {
   "cell_type": "markdown",
   "metadata": {},
   "source": [
    "# Get Feature Importance"
   ]
  },
  {
   "cell_type": "code",
   "execution_count": 54,
   "metadata": {},
   "outputs": [],
   "source": [
    "import pickle"
   ]
  },
  {
   "cell_type": "code",
   "execution_count": 48,
   "metadata": {},
   "outputs": [],
   "source": [
    "FULL_FEATURES = ['Kicks', 'Handballs', 'Disposals', 'Marks', 'Goals',\n",
    "                 'Behinds', 'Tackles', 'Hitouts', 'Goal Assists', 'Inside 50s',\n",
    "                 'Clearances', 'Clangers', 'Rebound 50s', 'Frees For', 'Frees Agains',\n",
    "                 'Contested Possessions', 'Uncontested Possessions',\n",
    "                 'Effective Disposals', 'Disposal Efficiency %', 'Contested Marks',\n",
    "                 'Marks Inside 50', 'One Percenters', 'Bounces', 'Centre Clearances',\n",
    "                 'Stoppage Clearances', 'Score Involvements', 'Metres Gained',\n",
    "                 'Turnovers', 'Intercepts', 'Tackles Inside 50', 'Time On Ground %',\n",
    "                 'Winloss', 'Uncontested Marks',\n",
    "                 'Marks Outside 50', 'Tackles Outside 50', 'Behind Assists',\n",
    "                 'Ineffective Disposals']\n",
    "\n",
    "train_x = train_df[FULL_FEATURES]\n",
    "train_y = train_df['target']\n",
    "val_x = train_df[FULL_FEATURES]\n",
    "val_y = train_df['target']"
   ]
  },
  {
   "cell_type": "code",
   "execution_count": 49,
   "metadata": {},
   "outputs": [],
   "source": [
    "from JXAutoML.NingXiang import NingXiang"
   ]
  },
  {
   "cell_type": "code",
   "execution_count": 50,
   "metadata": {},
   "outputs": [
    {
     "name": "stdout",
     "output_type": "stream",
     "text": [
      "NingXiang Initialised\n",
      "Read in Train X data\n",
      "Read in Train y data\n",
      "Read in Val X data\n",
      "Read in Val y data\n",
      "Successfully recorded model type: Regression\n"
     ]
    }
   ],
   "source": [
    "feature_selector = NingXiang()\n",
    "feature_selector.read_in_train_data(train_x, train_y, val_x, val_y)\n",
    "feature_selector.set_model_type('Regression')"
   ]
  },
  {
   "cell_type": "code",
   "execution_count": 51,
   "metadata": {},
   "outputs": [
    {
     "name": "stdout",
     "output_type": "stream",
     "text": [
      "Begin fitting Random Forest\n",
      "Finished fitting Random Forest\n"
     ]
    }
   ],
   "source": [
    "feature_order_dict = feature_selector.get_rf_based_feature_combinations(\n",
    "    n_jobs=-1)"
   ]
  },
  {
   "cell_type": "code",
   "execution_count": 52,
   "metadata": {},
   "outputs": [
    {
     "name": "stdout",
     "output_type": "stream",
     "text": [
      "{'Kicks': 0.032018868636446304, 'Handballs': 0.0025596342309811963, 'Disposals': 0.14181193595024147, 'Marks': 0.006182684992518879, 'Goals': 0.06093404120308137, 'Behinds': 0.001346870280264095, 'Tackles': 0.025934273867540082, 'Hitouts': 0.038609381932767396, 'Goal Assists': 0.0029296720917979923, 'Inside 50s': 0.0015084281763098409, 'Clearances': 0.0012309113448375584, 'Clangers': 0.01489551294412083, 'Rebound 50s': 0.0017479320346366492, 'Frees For': 0.0015092411277024898, 'Frees Agains': 0.002949367296404547, 'Contested Possessions': 0.09826809310426389, 'Uncontested Possessions': 0.0013103220713735096, 'Effective Disposals': 0.4530041135446561, 'Disposal Efficiency %': 0.001984288476661717, 'Contested Marks': 0.007967626789488655, 'Marks Inside 50': 0.0031080800157206262, 'One Percenters': 0.020520839772818596, 'Bounces': 0.0014837388948946782, 'Centre Clearances': 0.001376700613015881, 'Stoppage Clearances': 0.0011718185195943183, 'Score Involvements': 0.03579325603620612, 'Metres Gained': 0.006433221893402414, 'Turnovers': 0.0015035994503505656, 'Intercepts': 0.004548669381897508, 'Tackles Inside 50': 0.0026410630265730913, 'Time On Ground %': 0.0020614115196509043, 'Winloss': 0.0003692670149262571, 'Uncontested Marks': 0.0017472635090090274, 'Marks Outside 50': 0.002147042322489889, 'Tackles Outside 50': 0.008219943915861342, 'Behind Assists': 0.00714902814707859, 'Ineffective Disposals': 0.0010218558704156743}\n",
      "Validation score: 0.9261922828499735\n"
     ]
    }
   ],
   "source": [
    "feature_selector.show_rf_stats()"
   ]
  },
  {
   "cell_type": "code",
   "execution_count": 55,
   "metadata": {},
   "outputs": [],
   "source": [
    "with open('../models/feature_order_dict.pickle', 'wb') as f:\n",
    "    pickle.dump(feature_order_dict, f)"
   ]
  }
 ],
 "metadata": {
  "kernelspec": {
   "display_name": "base",
   "language": "python",
   "name": "python3"
  },
  "language_info": {
   "codemirror_mode": {
    "name": "ipython",
    "version": 3
   },
   "file_extension": ".py",
   "mimetype": "text/x-python",
   "name": "python",
   "nbconvert_exporter": "python",
   "pygments_lexer": "ipython3",
   "version": "3.9.7"
  }
 },
 "nbformat": 4,
 "nbformat_minor": 2
}
