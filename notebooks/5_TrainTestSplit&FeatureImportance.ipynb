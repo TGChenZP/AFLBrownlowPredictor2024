{
 "cells": [
  {
   "cell_type": "markdown",
   "metadata": {},
   "source": [
    "# Get Dataset"
   ]
  },
  {
   "cell_type": "code",
   "execution_count": 1,
   "metadata": {},
   "outputs": [],
   "source": [
    "import pandas as pd\n",
    "from sklearn.model_selection import train_test_split\n",
    "import os\n",
    "from tqdm import tqdm"
   ]
  },
  {
   "cell_type": "code",
   "execution_count": 2,
   "metadata": {},
   "outputs": [],
   "source": [
    "games_list = os.listdir('../data/curated/NormalisedData')\n",
    "games_list = [file for file in games_list if file.endswith('.csv')]\n",
    "games_list_no_2023 = [game for game in games_list if '2023' not in games_list]"
   ]
  },
  {
   "cell_type": "code",
   "execution_count": 3,
   "metadata": {},
   "outputs": [],
   "source": [
    "train_games, valtest_games = train_test_split(\n",
    "    games_list_no_2023, test_size=0.3, random_state=42)\n",
    "val_games, test_games = train_test_split(\n",
    "    valtest_games, test_size=0.5, random_state=42)"
   ]
  },
  {
   "cell_type": "code",
   "execution_count": 4,
   "metadata": {},
   "outputs": [],
   "source": [
    "def get_dataset(games_list):\n",
    "\n",
    "    df = pd.DataFrame()\n",
    "\n",
    "    for game in tqdm(games_list):\n",
    "        game_df = pd.read_csv(f'../data/curated/NormalisedData/{game}')\n",
    "        df = pd.concat([df, game_df])\n",
    "\n",
    "    df.fillna(0, inplace=True)\n",
    "\n",
    "    return df"
   ]
  },
  {
   "cell_type": "code",
   "execution_count": 5,
   "metadata": {},
   "outputs": [
    {
     "name": "stderr",
     "output_type": "stream",
     "text": [
      "100%|██████████| 1240/1240 [00:13<00:00, 95.13it/s]\n",
      "100%|██████████| 266/266 [00:02<00:00, 114.10it/s]\n",
      "100%|██████████| 266/266 [00:01<00:00, 178.90it/s]\n"
     ]
    }
   ],
   "source": [
    "train_df = get_dataset(train_games)\n",
    "val_df = get_dataset(val_games)\n",
    "test_df = get_dataset(test_games)"
   ]
  },
  {
   "cell_type": "code",
   "execution_count": 6,
   "metadata": {},
   "outputs": [],
   "source": [
    "train_df.to_csv('../data/curated/modelling/train.csv')\n",
    "val_df.to_csv('../data/curated/modelling/val.csv')\n",
    "test_df.to_csv('../data/curated/modelling/test.csv')"
   ]
  },
  {
   "cell_type": "markdown",
   "metadata": {},
   "source": [
    "## Get Graph Dataset"
   ]
  },
  {
   "cell_type": "code",
   "execution_count": 7,
   "metadata": {},
   "outputs": [],
   "source": [
    "def get_graph_dataset(games_list):\n",
    "\n",
    "    df = pd.DataFrame()\n",
    "\n",
    "    game_index = 0\n",
    "    for game in tqdm(games_list):\n",
    "        game_df = pd.read_csv(f'../data/curated/NormalisedData/{game}')\n",
    "        game_df['idx'] = game_index\n",
    "        df = pd.concat([df, game_df])\n",
    "\n",
    "        game_index += 1\n",
    "\n",
    "    df.fillna(0, inplace=True)\n",
    "\n",
    "    return df"
   ]
  },
  {
   "cell_type": "code",
   "execution_count": 8,
   "metadata": {},
   "outputs": [
    {
     "name": "stderr",
     "output_type": "stream",
     "text": [
      "100%|██████████| 1240/1240 [00:14<00:00, 85.24it/s]\n",
      "100%|██████████| 266/266 [00:01<00:00, 154.38it/s]\n",
      "100%|██████████| 266/266 [00:01<00:00, 142.42it/s]\n"
     ]
    }
   ],
   "source": [
    "train_df = get_graph_dataset(train_games)\n",
    "val_df = get_graph_dataset(val_games)\n",
    "test_df = get_graph_dataset(test_games)"
   ]
  },
  {
   "cell_type": "code",
   "execution_count": 10,
   "metadata": {},
   "outputs": [],
   "source": [
    "train_df.to_csv('../data/curated/modelling/graph_train.csv')\n",
    "val_df.to_csv('../data/curated/modelling/graph_val.csv')\n",
    "test_df.to_csv('../data/curated/modelling/graph_test.csv')"
   ]
  },
  {
   "cell_type": "markdown",
   "metadata": {},
   "source": [
    "# Get Feature Importance"
   ]
  },
  {
   "cell_type": "code",
   "execution_count": 7,
   "metadata": {},
   "outputs": [],
   "source": [
    "import pickle"
   ]
  },
  {
   "cell_type": "code",
   "execution_count": 8,
   "metadata": {},
   "outputs": [],
   "source": [
    "FULL_FEATURES = ['Kicks', 'Handballs', 'Disposals', 'Marks', 'Goals',\n",
    "                 'Behinds', 'Tackles', 'Hitouts', 'Goal Assists', 'Inside 50s',\n",
    "                 'Clearances', 'Clangers', 'Rebound 50s', 'Frees For', 'Frees Agains',\n",
    "                 'Contested Possessions', 'Uncontested Possessions',\n",
    "                 'Effective Disposals', 'Disposal Efficiency %', 'Contested Marks',\n",
    "                 'Marks Inside 50', 'One Percenters', 'Bounces', 'Centre Clearances',\n",
    "                 'Stoppage Clearances', 'Score Involvements', 'Metres Gained',\n",
    "                 'Turnovers', 'Intercepts', 'Tackles Inside 50', 'Time On Ground %',\n",
    "                 'Winloss', 'Uncontested Marks',\n",
    "                 'Marks Outside 50', 'Tackles Outside 50', 'Behind Assists',\n",
    "                 'Ineffective Disposals']\n",
    "\n",
    "train_x = train_df[FULL_FEATURES]\n",
    "train_y = train_df['target']\n",
    "val_x = train_df[FULL_FEATURES]\n",
    "val_y = train_df['target']"
   ]
  },
  {
   "cell_type": "code",
   "execution_count": 9,
   "metadata": {},
   "outputs": [],
   "source": [
    "from JXAutoML.NingXiang import NingXiang"
   ]
  },
  {
   "cell_type": "code",
   "execution_count": 10,
   "metadata": {},
   "outputs": [
    {
     "name": "stdout",
     "output_type": "stream",
     "text": [
      "NingXiang Initialised\n",
      "Read in Train X data\n",
      "Read in Train y data\n",
      "Read in Val X data\n",
      "Read in Val y data\n",
      "Successfully recorded model type: Regression\n"
     ]
    }
   ],
   "source": [
    "feature_selector = NingXiang()\n",
    "feature_selector.read_in_train_data(train_x, train_y, val_x, val_y)\n",
    "feature_selector.set_model_type('Regression')"
   ]
  },
  {
   "cell_type": "code",
   "execution_count": 11,
   "metadata": {},
   "outputs": [
    {
     "name": "stdout",
     "output_type": "stream",
     "text": [
      "Begin fitting Random Forest\n",
      "Finished fitting Random Forest\n"
     ]
    }
   ],
   "source": [
    "feature_order_dict = feature_selector.get_rf_based_feature_combinations(\n",
    "    n_jobs=-1)"
   ]
  },
  {
   "cell_type": "code",
   "execution_count": 12,
   "metadata": {},
   "outputs": [
    {
     "name": "stdout",
     "output_type": "stream",
     "text": [
      "{'Kicks': 0.03091068524063583, 'Handballs': 0.0024938955638784577, 'Disposals': 0.14373963665173684, 'Marks': 0.006534704402619065, 'Goals': 0.06889811212145383, 'Behinds': 0.001315932163125528, 'Tackles': 0.024498385936867262, 'Hitouts': 0.036861456141004334, 'Goal Assists': 0.002791286785315583, 'Inside 50s': 0.0015612958274024852, 'Clearances': 0.0016048564551753846, 'Clangers': 0.013478212410024884, 'Rebound 50s': 0.001816243232521673, 'Frees For': 0.0016746375542726695, 'Frees Agains': 0.0027744130929174774, 'Contested Possessions': 0.09817211701597632, 'Uncontested Possessions': 0.00148483878716943, 'Effective Disposals': 0.44653042996227005, 'Disposal Efficiency %': 0.0017440127912776507, 'Contested Marks': 0.007887635522744046, 'Marks Inside 50': 0.003435843808971593, 'One Percenters': 0.0193881552465415, 'Bounces': 0.0015301389875180692, 'Centre Clearances': 0.0013317930796239103, 'Stoppage Clearances': 0.001303891526667163, 'Score Involvements': 0.03924760631684517, 'Metres Gained': 0.006703305555537852, 'Turnovers': 0.0015448220515758017, 'Intercepts': 0.004620287764809239, 'Tackles Inside 50': 0.002571983425717344, 'Time On Ground %': 0.0021128538713504797, 'Winloss': 0.0008073257877832045, 'Uncontested Marks': 0.001715534851896914, 'Marks Outside 50': 0.002121637645195558, 'Tackles Outside 50': 0.007482784704980261, 'Behind Assists': 0.006196441503389248, 'Ineffective Disposals': 0.0011128062132079507}\n",
      "Validation score: 0.9222120662947015\n"
     ]
    }
   ],
   "source": [
    "feature_selector.show_rf_stats()"
   ]
  },
  {
   "cell_type": "code",
   "execution_count": 13,
   "metadata": {},
   "outputs": [],
   "source": [
    "with open('../models/feature_importance_ordering.pickle', 'wb') as f:\n",
    "    pickle.dump(feature_order_dict, f)"
   ]
  },
  {
   "cell_type": "code",
   "execution_count": null,
   "metadata": {},
   "outputs": [],
   "source": []
  }
 ],
 "metadata": {
  "kernelspec": {
   "display_name": "base",
   "language": "python",
   "name": "python3"
  },
  "language_info": {
   "codemirror_mode": {
    "name": "ipython",
    "version": 3
   },
   "file_extension": ".py",
   "mimetype": "text/x-python",
   "name": "python",
   "nbconvert_exporter": "python",
   "pygments_lexer": "ipython3",
   "version": "3.9.7"
  }
 },
 "nbformat": 4,
 "nbformat_minor": 2
}
