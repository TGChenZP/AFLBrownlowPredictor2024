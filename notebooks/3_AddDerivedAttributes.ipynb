{
 "cells": [
  {
   "cell_type": "markdown",
   "metadata": {},
   "source": [
    "# 3. Adding Derived Attributes to existing Data #\n",
    "## For Brownlow Predictor Project ##\n",
    "\n",
    "Adds Derived Attributes of \n",
    "- [x] Uncontested Marks\n",
    "- [x] Marks Outside 50\n",
    "- [x] Tackles Outside 50\n",
    "- [x] Behind Assists\n",
    "- [x] Effective Disposals\n",
    "- [x] Ineffective Disposals\n",
    "\n",
    "and deleted\n",
    "- [ ] Disposal Efficiency %\n",
    "\n",
    "from data\n",
    "\n",
    "*Completes the data picture in terms of all the 'Disposals/Kicks/Handball' triangle relationship, and resolves the problem of having a column of data being a percentage*\n",
    "\n",
    "**Author: `Lang (Ron) Chen` 2021.12-2022.1**\n",
    "\n",
    "---"
   ]
  },
  {
   "cell_type": "markdown",
   "metadata": {},
   "source": [
    "**0. Import Libraries**"
   ]
  },
  {
   "cell_type": "code",
   "execution_count": 1,
   "metadata": {},
   "outputs": [],
   "source": [
    "import pandas as pd\n",
    "import os\n",
    "from tqdm import tqdm"
   ]
  },
  {
   "cell_type": "code",
   "execution_count": 2,
   "metadata": {},
   "outputs": [],
   "source": [
    "choice = 'OriginalData'"
   ]
  },
  {
   "cell_type": "markdown",
   "metadata": {},
   "source": [
    "**1. Opens each file and performs operation**"
   ]
  },
  {
   "cell_type": "code",
   "execution_count": 3,
   "metadata": {},
   "outputs": [],
   "source": [
    "# Grabs a list of the files\n",
    "filelist = os.listdir(f'../data/raw/{choice}')[1:]\n",
    "# Remove the first file (an ipynb checkpoint file)\n",
    "filelist.sort()"
   ]
  },
  {
   "cell_type": "code",
   "execution_count": 4,
   "metadata": {},
   "outputs": [
    {
     "name": "stdout",
     "output_type": "stream",
     "text": [
      "CPU times: user 2 µs, sys: 1e+03 ns, total: 3 µs\n",
      "Wall time: 5.01 µs\n"
     ]
    },
    {
     "name": "stderr",
     "output_type": "stream",
     "text": [
      "  0%|          | 0/1772 [00:00<?, ?it/s]"
     ]
    },
    {
     "name": "stderr",
     "output_type": "stream",
     "text": [
      "100%|██████████| 1772/1772 [00:15<00:00, 117.25it/s]\n"
     ]
    }
   ],
   "source": [
    "%time\n",
    "\n",
    "# Open all the files, performs operations and exports them to a new folder\n",
    "\n",
    "if not os.path.exists(f'../future data/curated/OriginalData_AddDerived'):\n",
    "    os.makedirs(f'../future data/curated/OriginalData_AddDerived')\n",
    "\n",
    "for file in tqdm(filelist):\n",
    "    if not file.endswith('.csv'):\n",
    "        continue\n",
    "    df = pd.read_csv(f'../data/raw/{choice}/{file}')\n",
    "    \n",
    "    df['Uncontested Marks'] = df['Marks'].sub(df['Contested Marks'])\n",
    "    df['Marks Outside 50'] = df['Marks'].sub(df['Marks Inside 50'])\n",
    "    df['Tackles Outside 50'] = df['Tackles'].sub(df['Tackles Inside 50'])\n",
    "    df['Behind Assists'] = df['Score Involvements'].sub(df['Goal Assists'])\n",
    "    df['Effective Disposals'] = df['Disposals'].mul(df['Disposal Efficiency %']*0.01).round(0)\n",
    "    df['Ineffective Disposals'] = df['Disposals'].sub(df['Effective Disposals'])\n",
    "\n",
    "    \n",
    "    df.to_csv(f'../data/curated/OriginalData_AddDerived/{file}', index = False)"
   ]
  }
 ],
 "metadata": {
  "kernelspec": {
   "display_name": "Python 3.9.7 ('base')",
   "language": "python",
   "name": "python3"
  },
  "language_info": {
   "codemirror_mode": {
    "name": "ipython",
    "version": 3
   },
   "file_extension": ".py",
   "mimetype": "text/x-python",
   "name": "python",
   "nbconvert_exporter": "python",
   "pygments_lexer": "ipython3",
   "version": "3.9.7"
  },
  "vscode": {
   "interpreter": {
    "hash": "cd78fef2128015050713e82ca51c6520b11aee7c9ee8df750520bbbc7384cbaa"
   }
  }
 },
 "nbformat": 4,
 "nbformat_minor": 4
}
